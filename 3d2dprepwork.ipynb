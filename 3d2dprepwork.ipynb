{
  "nbformat": 4,
  "nbformat_minor": 0,
  "metadata": {
    "colab": {
      "name": "3d2dprepwork.ipynb",
      "provenance": [],
      "collapsed_sections": [],
      "authorship_tag": "ABX9TyM1yVYGrpHOiuvQB2HRbaQt",
      "include_colab_link": true
    },
    "kernelspec": {
      "name": "python3",
      "display_name": "Python 3"
    },
    "language_info": {
      "name": "python"
    }
  },
  "cells": [
    {
      "cell_type": "markdown",
      "metadata": {
        "id": "view-in-github",
        "colab_type": "text"
      },
      "source": [
        "<a href=\"https://colab.research.google.com/github/WilliamAshbee/3d-synth-data/blob/main/3d2dprepwork.ipynb\" target=\"_parent\"><img src=\"https://colab.research.google.com/assets/colab-badge.svg\" alt=\"Open In Colab\"/></a>"
      ]
    },
    {
      "cell_type": "code",
      "metadata": {
        "id": "n38jTonhOboK"
      },
      "source": [
        "import numpy as np"
      ],
      "execution_count": 1,
      "outputs": []
    },
    {
      "cell_type": "code",
      "metadata": {
        "id": "YIDRntthOdmj"
      },
      "source": [
        "a = np.array([i for i in range(16)])"
      ],
      "execution_count": 2,
      "outputs": []
    },
    {
      "cell_type": "code",
      "metadata": {
        "id": "Vr-88JYJOn_i"
      },
      "source": [
        "a = a.reshape(-1,1,1).repeat(16,axis=1).repeat(16,axis=2)"
      ],
      "execution_count": 3,
      "outputs": []
    },
    {
      "cell_type": "code",
      "metadata": {
        "id": "O0EumXU9OwXm"
      },
      "source": [
        "x = a.copy()\n",
        "y = a.transpose(1,0,2)\n",
        "z = a.transpose(2,1,0)\n"
      ],
      "execution_count": 4,
      "outputs": []
    },
    {
      "cell_type": "code",
      "metadata": {
        "colab": {
          "base_uri": "https://localhost:8080/"
        },
        "id": "DJ2z7r1l3Lbf",
        "outputId": "96aaaf5b-552e-4574-b0a4-0c2d0ae70c8f"
      },
      "source": [
        "print(x[:,0,0])\n",
        "print(y[0,:,0])\n",
        "print(z[0,0,:])\n",
        "assert(x[:,0,0].sum()==y[0,:,0].sum())\n",
        "assert(z[0,0,:].sum()==y[0,:,0].sum())\n",
        "assert(x[:,0,0].sum()!=0)\n",
        "\n",
        "a = z.copy()"
      ],
      "execution_count": 5,
      "outputs": [
        {
          "output_type": "stream",
          "name": "stdout",
          "text": [
            "[ 0  1  2  3  4  5  6  7  8  9 10 11 12 13 14 15]\n",
            "[ 0  1  2  3  4  5  6  7  8  9 10 11 12 13 14 15]\n",
            "[ 0  1  2  3  4  5  6  7  8  9 10 11 12 13 14 15]\n"
          ]
        }
      ]
    },
    {
      "cell_type": "code",
      "metadata": {
        "id": "cx4VrQ5NO_p1"
      },
      "source": [
        ""
      ],
      "execution_count": 6,
      "outputs": []
    },
    {
      "cell_type": "code",
      "metadata": {
        "id": "FdsPNSCoaRR7"
      },
      "source": [
        "x3dind = []\n",
        "y3dind = []\n",
        "z3dind = []\n",
        "\n",
        "x2dind = []\n",
        "y2dind = []\n",
        "\n",
        "for i in range(16):\n",
        "  for j in range(16):\n",
        "    for k in range(16):\n",
        "      x3dind.append(i)\n",
        "      y3dind.append(j)\n",
        "      z3dind.append(k)\n",
        "      \n",
        "      x2dind.append(i*4+k%4)\n",
        "      y2dind.append(j*4+k//4)\n",
        "\n",
        "      \n",
        "\n"
      ],
      "execution_count": 7,
      "outputs": []
    },
    {
      "cell_type": "code",
      "metadata": {
        "colab": {
          "base_uri": "https://localhost:8080/"
        },
        "id": "UfbEbcSNWDQa",
        "outputId": "a3ebbeb2-88ad-4fab-db0f-16d025114c90"
      },
      "source": [
        "#x2d[8:12,8:12]"
      ],
      "execution_count": 8,
      "outputs": [
        {
          "output_type": "execute_result",
          "data": {
            "text/plain": [
              "array([[0., 0., 0., 0.],\n",
              "       [0., 0., 0., 0.],\n",
              "       [0., 0., 0., 0.],\n",
              "       [0., 0., 0., 0.]])"
            ]
          },
          "metadata": {},
          "execution_count": 8
        }
      ]
    },
    {
      "cell_type": "code",
      "metadata": {
        "id": "fWzVDod5gSdv"
      },
      "source": [
        "def get2dfrom3d(a):\n",
        "  \n",
        "  a = np.array([i for i in range(16)])\n",
        "  \n",
        "  x = a.copy()\n",
        "  y = a.transpose(1,0,2)\n",
        "  z = a.transpose(2,1,0)\n",
        "\n",
        "  x2d = np.zeros((64,64))\n",
        "  y2d = np.zeros_like(x2d)\n",
        "  z2d = np.zeros_like(x2d)\n",
        "\n",
        "  x2d[y2dind,x2dind] = x[y3dind,x3dind,z3dind]\n",
        "  y2d[y2dind,x2dind] = y[y3dind,x3dind,z3dind]\n",
        "  z2d[y2dind,x2dind] = z[y3dind,x3dind,z3dind]\n",
        "\n",
        "  print(x2d[y2dind,x2dind].shape,x[y3dind,x3dind,z3dind].shape)\n",
        "  print(y2d[y2dind,x2dind].shape,y[y3dind,x3dind,z3dind].shape)\n",
        "  print(z2d[y2dind,x2dind].shape,z[y3dind,x3dind,z3dind].shape)\n",
        "  print(x2d[y2dind,x2dind].sum(),x[y3dind,x3dind,z3dind].sum())\n",
        "  print(y2d[y2dind,x2dind].sum(),y[y3dind,x3dind,z3dind].sum())\n",
        "  print(z2d[y2dind,x2dind].sum(),z[y3dind,x3dind,z3dind].sum())\n",
        "  assert((x2d[y2dind,x2dind].astype(int)!=x[y3dind,x3dind,z3dind].astype(int)).sum() == 0)\n",
        "  assert((y2d[y2dind,x2dind].astype(int)!=y[y3dind,x3dind,z3dind].astype(int)).sum() == 0)\n",
        "  assert((z2d[y2dind,x2dind].astype(int)!=z[y3dind,x3dind,z3dind].astype(int)).sum() == 0)\n",
        "  assert z2d[y2dind,x2dind].shape[0] == len(x2dind)\n",
        "  assert(int(y2d[y2dind,x2dind].sum())== int(y[y3dind,x3dind,z3dind].sum()))\n",
        "  assert(int(z2d[y2dind,x2dind].sum())== int(z[y3dind,x3dind,z3dind].sum()))\n",
        "  assert(int(x2d[y2dind,x2dind].sum())== int(y[y3dind,x3dind,z3dind].sum()))\n",
        "  assert(int(y2d[y2dind,x2dind].sum())== int(z[y3dind,x3dind,z3dind].sum()))\n",
        "  assert(int(y2d[y2dind,x2dind].sum())!= 0)\n",
        "  for i in range(16):\n",
        "    for j in range(16):\n",
        "      print('i,j,val',i,j,x2d[4*i:4*(i+1),j*4:(j+1)*4])\n",
        "      \n",
        "  for i in range(16):\n",
        "    for j in range(16):\n",
        "      print('i,j,val',i,j,y2d[4*i:4*(i+1),j*4:(j+1)*4])\n",
        "\n",
        "  for i in range(16):\n",
        "    for j in range(16):\n",
        "      print('i,j,val',i,j,z2d[4*i:4*(i+1),j*4:(j+1)*4])\n",
        "      assert z2d[4*i:4*(i+1),j*4:(j+1)*4][0,1] == 1\n",
        "      assert z2d[4*i:4*(i+1),j*4:(j+1)*4][1,0] == 4"
      ],
      "execution_count": 9,
      "outputs": []
    },
    {
      "cell_type": "code",
      "metadata": {
        "colab": {
          "base_uri": "https://localhost:8080/"
        },
        "id": "VXkR7CILu7S_",
        "outputId": "32f39b33-4b40-490d-9824-0edc0749e0ca"
      },
      "source": [
        "\n"
      ],
      "execution_count": 10,
      "outputs": [
        {
          "output_type": "stream",
          "name": "stdout",
          "text": [
            "(4096,) (4096,)\n",
            "(4096,) (4096,)\n",
            "(4096,) (4096,)\n",
            "30720.0 30720\n",
            "30720.0 30720\n",
            "30720.0 30720\n"
          ]
        }
      ]
    },
    {
      "cell_type": "code",
      "metadata": {
        "colab": {
          "base_uri": "https://localhost:8080/",
          "height": 375
        },
        "id": "xj7Ll69MyTLg",
        "outputId": "33ea8375-c364-407c-9cf1-89b0c5b5ce20"
      },
      "source": [
        "import matplotlib.pyplot as plt\n",
        "\n",
        "a2d = np.zeros((64,64))\n",
        "a2d[y2dind,x2dind] = a[y3dind,x3dind,z3dind]\n",
        "\n",
        "plt.clf()\n",
        "plt.imshow(a2d[:4,:4])\n",
        "print(a[0,0,:],'\\n', a2d[:4,:4])\n",
        "\n",
        "print(a2d[0,0],a2d[0,1])\n",
        "assert a2d[0,0] == 0\n",
        "assert a2d[0,1] == 1\n",
        "assert a2d[1,0] == 4"
      ],
      "execution_count": 12,
      "outputs": [
        {
          "output_type": "stream",
          "name": "stdout",
          "text": [
            "[ 0  1  2  3  4  5  6  7  8  9 10 11 12 13 14 15] \n",
            " [[ 0.  1.  2.  3.]\n",
            " [ 4.  5.  6.  7.]\n",
            " [ 8.  9. 10. 11.]\n",
            " [12. 13. 14. 15.]]\n",
            "0.0 1.0\n"
          ]
        },
        {
          "output_type": "display_data",
          "data": {
            "image/png": "[encoded data removed]",
            "text/plain": [
              "<Figure size 432x288 with 1 Axes>"
            ]
          },
          "metadata": {
            "needs_background": "light"
          }
        }
      ]
    },
    {
      "cell_type": "code",
      "metadata": {
        "colab": {
          "base_uri": "https://localhost:8080/",
          "height": 285
        },
        "id": "LmAKLghSzVsW",
        "outputId": "834066cf-21c2-4f9d-9c3a-35aac65867c4"
      },
      "source": [
        "plt.clf()\n",
        "plt.imshow(a2d)\n"
      ],
      "execution_count": 13,
      "outputs": [
        {
          "output_type": "execute_result",
          "data": {
            "text/plain": [
              "<matplotlib.image.AxesImage at 0x7f1415ce2650>"
            ]
          },
          "metadata": {},
          "execution_count": 13
        },
        {
          "output_type": "display_data",
          "data": {
            "image/png": "[encoded data removed]",
            "text/plain": [
              "<Figure size 432x288 with 1 Axes>"
            ]
          },
          "metadata": {
            "needs_background": "light"
          }
        }
      ]
    },
    {
      "cell_type": "code",
      "metadata": {
        "id": "-p_qelyVB8Rj"
      },
      "source": [
        ""
      ],
      "execution_count": null,
      "outputs": []
    }
  ]
}